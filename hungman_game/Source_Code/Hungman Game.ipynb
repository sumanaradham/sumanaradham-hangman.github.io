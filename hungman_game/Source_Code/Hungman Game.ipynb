{
 "cells": [
  {
   "cell_type": "code",
   "execution_count": 1,
   "id": "64a2260e",
   "metadata": {},
   "outputs": [
    {
     "name": "stdout",
     "output_type": "stream",
     "text": [
      "Enter your name kiran\n",
      "Hi! \u001b[1mkiran\u001b[0m, Welcome to Hungman Game created by \u001b[1mRadam Sumana\u001b[0m.\n",
      "Your hint: US states\n",
      "_ _ _ _ _ \n",
      "Guess a character: t\n",
      "t_ _ _ _ \n",
      "Guess a character: e\n",
      "te_ _ _ \n",
      "Guess a character: x\n",
      "tex_ _ \n",
      "Guess a character: a\n",
      "texa_ \n",
      "Guess a character: s\n",
      "Congrats! You won the game by guessing the word 'texas' correctly.\n"
     ]
    }
   ],
   "source": [
    "import random\n",
    "\n",
    "\n",
    "#UserName\n",
    "User_Name=input(\"Enter your name \")\n",
    "print(\"Hi! \\033[1m{}\\033[0m, Welcome to Hungman Game created by \\033[1mRadam Sumana\\033[0m.\".format(User_Name))\n",
    "\n",
    "print(\"Your hint: US states\")\n",
    "\n",
    "#List of words in Hungman game\n",
    "List_of_words = ['texas', 'california', 'ohio', 'newyork','florida', 'georgia', 'arizona', 'idaho',\n",
    "         'oregon', 'missouri', 'indiana', 'virginia']\n",
    "random_string = random.choice(List_of_words)\n",
    "#print(random_string)\n",
    "count = 0\n",
    "guess = ''\n",
    "\n",
    "no_of_turns = 12\n",
    "guessed_char = set()\n",
    "\n",
    "\n",
    "#Printing pattern \n",
    "while no_of_turns > 0:\n",
    "    word_progress = \"\"\n",
    "    for char in random_string:\n",
    "        #print(\"check1\",char)\n",
    "        if char in guessed_char:\n",
    "            #print(\"check2\",char)\n",
    "            word_progress += char\n",
    "        else:\n",
    "            word_progress += \"_\" + \" \"\n",
    "    \n",
    "    print(word_progress)\n",
    "   \n",
    "    user_char = input(\"Guess a character: \")\n",
    "    #Checking the guess\n",
    "    if user_char in random_string and user_char not in guessed_char:\n",
    "        count += 1\n",
    "        guessed_char.add(user_char)\n",
    "        if count == len(set(random_string)):\n",
    "            print(\"Congrats! You won the game by guessing the word '{}' correctly.\".format(random_string))\n",
    "            break\n",
    "    #Checking Duplicate characters that are already guessed by the user\n",
    "    elif user_char in guessed_char:\n",
    "        no_of_turns -= 1\n",
    "        print(\"The character is already guessed.  Turns left: {}, Please enter a new character.\".format(no_of_turns))\n",
    "    #Condition for incorrect guess\n",
    "    else:\n",
    "        no_of_turns -= 1\n",
    "        print(\"Sorry, '{}' is not in the word. Turns left: {}\".format(user_char, no_of_turns))\n",
    "        \n",
    "#When no_of_turns are done\n",
    "if no_of_turns == 0:\n",
    "    print(\"Game over! You were not able to guess the word '{}' within the specified number of turns {}.\".format(random_string,no_of_turns))\n"
   ]
  },
  {
   "cell_type": "code",
   "execution_count": null,
   "id": "58e4b10d",
   "metadata": {},
   "outputs": [],
   "source": [
    "from flask import Flask, render_template, request\n",
    "\n",
    "app = Flask(__name__)\n",
    "\n"
   ]
  },
  {
   "cell_type": "code",
   "execution_count": null,
   "id": "1efc73f9",
   "metadata": {},
   "outputs": [],
   "source": [
    "@app.route('/')\n",
    "def home():\n",
    "    return render_template('index.html')\n"
   ]
  }
 ],
 "metadata": {
  "kernelspec": {
   "display_name": "Python 3 (ipykernel)",
   "language": "python",
   "name": "python3"
  },
  "language_info": {
   "codemirror_mode": {
    "name": "ipython",
    "version": 3
   },
   "file_extension": ".py",
   "mimetype": "text/x-python",
   "name": "python",
   "nbconvert_exporter": "python",
   "pygments_lexer": "ipython3",
   "version": "3.10.9"
  }
 },
 "nbformat": 4,
 "nbformat_minor": 5
}
